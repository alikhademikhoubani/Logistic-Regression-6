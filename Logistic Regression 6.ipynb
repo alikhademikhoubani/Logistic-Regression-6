{
 "cells": [
  {
   "cell_type": "code",
   "execution_count": 25,
   "id": "2865ea52",
   "metadata": {},
   "outputs": [],
   "source": [
    "import numpy as np\n",
    "import pandas as pd\n",
    "import statsmodels.api as sm\n",
    "from sklearn.model_selection import train_test_split"
   ]
  },
  {
   "cell_type": "code",
   "execution_count": 26,
   "id": "71de53c4",
   "metadata": {},
   "outputs": [
    {
     "data": {
      "text/html": [
       "<div>\n",
       "<style scoped>\n",
       "    .dataframe tbody tr th:only-of-type {\n",
       "        vertical-align: middle;\n",
       "    }\n",
       "\n",
       "    .dataframe tbody tr th {\n",
       "        vertical-align: top;\n",
       "    }\n",
       "\n",
       "    .dataframe thead th {\n",
       "        text-align: right;\n",
       "    }\n",
       "</style>\n",
       "<table border=\"1\" class=\"dataframe\">\n",
       "  <thead>\n",
       "    <tr style=\"text-align: right;\">\n",
       "      <th></th>\n",
       "      <th>Education</th>\n",
       "      <th>JoiningYear</th>\n",
       "      <th>City</th>\n",
       "      <th>PaymentTier</th>\n",
       "      <th>Age</th>\n",
       "      <th>Gender</th>\n",
       "      <th>EverBenched</th>\n",
       "      <th>ExperienceInCurrentDomain</th>\n",
       "      <th>LeaveOrNot</th>\n",
       "    </tr>\n",
       "  </thead>\n",
       "  <tbody>\n",
       "    <tr>\n",
       "      <th>0</th>\n",
       "      <td>Bachelors</td>\n",
       "      <td>2017</td>\n",
       "      <td>Bangalore</td>\n",
       "      <td>3</td>\n",
       "      <td>34</td>\n",
       "      <td>Male</td>\n",
       "      <td>No</td>\n",
       "      <td>0</td>\n",
       "      <td>0</td>\n",
       "    </tr>\n",
       "    <tr>\n",
       "      <th>1</th>\n",
       "      <td>Bachelors</td>\n",
       "      <td>2013</td>\n",
       "      <td>Pune</td>\n",
       "      <td>1</td>\n",
       "      <td>28</td>\n",
       "      <td>Female</td>\n",
       "      <td>No</td>\n",
       "      <td>3</td>\n",
       "      <td>1</td>\n",
       "    </tr>\n",
       "    <tr>\n",
       "      <th>2</th>\n",
       "      <td>Bachelors</td>\n",
       "      <td>2014</td>\n",
       "      <td>New Delhi</td>\n",
       "      <td>3</td>\n",
       "      <td>38</td>\n",
       "      <td>Female</td>\n",
       "      <td>No</td>\n",
       "      <td>2</td>\n",
       "      <td>0</td>\n",
       "    </tr>\n",
       "    <tr>\n",
       "      <th>3</th>\n",
       "      <td>Masters</td>\n",
       "      <td>2016</td>\n",
       "      <td>Bangalore</td>\n",
       "      <td>3</td>\n",
       "      <td>27</td>\n",
       "      <td>Male</td>\n",
       "      <td>No</td>\n",
       "      <td>5</td>\n",
       "      <td>1</td>\n",
       "    </tr>\n",
       "    <tr>\n",
       "      <th>4</th>\n",
       "      <td>Masters</td>\n",
       "      <td>2017</td>\n",
       "      <td>Pune</td>\n",
       "      <td>3</td>\n",
       "      <td>24</td>\n",
       "      <td>Male</td>\n",
       "      <td>Yes</td>\n",
       "      <td>2</td>\n",
       "      <td>1</td>\n",
       "    </tr>\n",
       "  </tbody>\n",
       "</table>\n",
       "</div>"
      ],
      "text/plain": [
       "   Education  JoiningYear       City  PaymentTier  Age  Gender EverBenched  \\\n",
       "0  Bachelors         2017  Bangalore            3   34    Male          No   \n",
       "1  Bachelors         2013       Pune            1   28  Female          No   \n",
       "2  Bachelors         2014  New Delhi            3   38  Female          No   \n",
       "3    Masters         2016  Bangalore            3   27    Male          No   \n",
       "4    Masters         2017       Pune            3   24    Male         Yes   \n",
       "\n",
       "   ExperienceInCurrentDomain  LeaveOrNot  \n",
       "0                          0           0  \n",
       "1                          3           1  \n",
       "2                          2           0  \n",
       "3                          5           1  \n",
       "4                          2           1  "
      ]
     },
     "execution_count": 26,
     "metadata": {},
     "output_type": "execute_result"
    }
   ],
   "source": [
    "df = pd.read_csv('Employee.csv')\n",
    "df.head()"
   ]
  },
  {
   "cell_type": "code",
   "execution_count": 27,
   "id": "9df48126",
   "metadata": {},
   "outputs": [
    {
     "data": {
      "text/plain": [
       "(4653, 9)"
      ]
     },
     "execution_count": 27,
     "metadata": {},
     "output_type": "execute_result"
    }
   ],
   "source": [
    "df.shape"
   ]
  },
  {
   "cell_type": "code",
   "execution_count": 28,
   "id": "74fe4ae8",
   "metadata": {},
   "outputs": [
    {
     "name": "stdout",
     "output_type": "stream",
     "text": [
      "<class 'pandas.core.frame.DataFrame'>\n",
      "RangeIndex: 4653 entries, 0 to 4652\n",
      "Data columns (total 9 columns):\n",
      " #   Column                     Non-Null Count  Dtype \n",
      "---  ------                     --------------  ----- \n",
      " 0   Education                  4653 non-null   object\n",
      " 1   JoiningYear                4653 non-null   int64 \n",
      " 2   City                       4653 non-null   object\n",
      " 3   PaymentTier                4653 non-null   int64 \n",
      " 4   Age                        4653 non-null   int64 \n",
      " 5   Gender                     4653 non-null   object\n",
      " 6   EverBenched                4653 non-null   object\n",
      " 7   ExperienceInCurrentDomain  4653 non-null   int64 \n",
      " 8   LeaveOrNot                 4653 non-null   int64 \n",
      "dtypes: int64(5), object(4)\n",
      "memory usage: 327.3+ KB\n"
     ]
    }
   ],
   "source": [
    "df.info()"
   ]
  },
  {
   "cell_type": "code",
   "execution_count": 29,
   "id": "cdbe7023",
   "metadata": {},
   "outputs": [
    {
     "data": {
      "text/plain": [
       "Education                    0\n",
       "JoiningYear                  0\n",
       "City                         0\n",
       "PaymentTier                  0\n",
       "Age                          0\n",
       "Gender                       0\n",
       "EverBenched                  0\n",
       "ExperienceInCurrentDomain    0\n",
       "LeaveOrNot                   0\n",
       "dtype: int64"
      ]
     },
     "execution_count": 29,
     "metadata": {},
     "output_type": "execute_result"
    }
   ],
   "source": [
    "df.isnull().sum()"
   ]
  },
  {
   "cell_type": "code",
   "execution_count": 30,
   "id": "72f6f286",
   "metadata": {},
   "outputs": [
    {
     "data": {
      "text/plain": [
       "1889"
      ]
     },
     "execution_count": 30,
     "metadata": {},
     "output_type": "execute_result"
    }
   ],
   "source": [
    "df.duplicated().sum()"
   ]
  },
  {
   "cell_type": "code",
   "execution_count": 31,
   "id": "4706a7ab",
   "metadata": {},
   "outputs": [],
   "source": [
    "df.drop_duplicates(inplace = True)"
   ]
  },
  {
   "cell_type": "code",
   "execution_count": 32,
   "id": "7289598f",
   "metadata": {},
   "outputs": [
    {
     "data": {
      "text/plain": [
       "(2764, 9)"
      ]
     },
     "execution_count": 32,
     "metadata": {},
     "output_type": "execute_result"
    }
   ],
   "source": [
    "df.shape"
   ]
  },
  {
   "cell_type": "code",
   "execution_count": 33,
   "id": "ec4dc5cc",
   "metadata": {},
   "outputs": [
    {
     "data": {
      "text/html": [
       "<div>\n",
       "<style scoped>\n",
       "    .dataframe tbody tr th:only-of-type {\n",
       "        vertical-align: middle;\n",
       "    }\n",
       "\n",
       "    .dataframe tbody tr th {\n",
       "        vertical-align: top;\n",
       "    }\n",
       "\n",
       "    .dataframe thead th {\n",
       "        text-align: right;\n",
       "    }\n",
       "</style>\n",
       "<table border=\"1\" class=\"dataframe\">\n",
       "  <thead>\n",
       "    <tr style=\"text-align: right;\">\n",
       "      <th></th>\n",
       "      <th>JoiningYear</th>\n",
       "      <th>PaymentTier</th>\n",
       "      <th>Age</th>\n",
       "      <th>ExperienceInCurrentDomain</th>\n",
       "      <th>LeaveOrNot</th>\n",
       "    </tr>\n",
       "  </thead>\n",
       "  <tbody>\n",
       "    <tr>\n",
       "      <th>count</th>\n",
       "      <td>2764.000000</td>\n",
       "      <td>2764.000000</td>\n",
       "      <td>2764.000000</td>\n",
       "      <td>2764.000000</td>\n",
       "      <td>2764.000000</td>\n",
       "    </tr>\n",
       "    <tr>\n",
       "      <th>mean</th>\n",
       "      <td>2015.090449</td>\n",
       "      <td>2.636035</td>\n",
       "      <td>30.952967</td>\n",
       "      <td>2.644356</td>\n",
       "      <td>0.393632</td>\n",
       "    </tr>\n",
       "    <tr>\n",
       "      <th>std</th>\n",
       "      <td>1.885943</td>\n",
       "      <td>0.624001</td>\n",
       "      <td>5.108872</td>\n",
       "      <td>1.610610</td>\n",
       "      <td>0.488643</td>\n",
       "    </tr>\n",
       "    <tr>\n",
       "      <th>min</th>\n",
       "      <td>2012.000000</td>\n",
       "      <td>1.000000</td>\n",
       "      <td>22.000000</td>\n",
       "      <td>0.000000</td>\n",
       "      <td>0.000000</td>\n",
       "    </tr>\n",
       "    <tr>\n",
       "      <th>25%</th>\n",
       "      <td>2013.000000</td>\n",
       "      <td>2.000000</td>\n",
       "      <td>27.000000</td>\n",
       "      <td>1.000000</td>\n",
       "      <td>0.000000</td>\n",
       "    </tr>\n",
       "    <tr>\n",
       "      <th>50%</th>\n",
       "      <td>2015.000000</td>\n",
       "      <td>3.000000</td>\n",
       "      <td>30.000000</td>\n",
       "      <td>2.000000</td>\n",
       "      <td>0.000000</td>\n",
       "    </tr>\n",
       "    <tr>\n",
       "      <th>75%</th>\n",
       "      <td>2017.000000</td>\n",
       "      <td>3.000000</td>\n",
       "      <td>35.000000</td>\n",
       "      <td>4.000000</td>\n",
       "      <td>1.000000</td>\n",
       "    </tr>\n",
       "    <tr>\n",
       "      <th>max</th>\n",
       "      <td>2018.000000</td>\n",
       "      <td>3.000000</td>\n",
       "      <td>41.000000</td>\n",
       "      <td>7.000000</td>\n",
       "      <td>1.000000</td>\n",
       "    </tr>\n",
       "  </tbody>\n",
       "</table>\n",
       "</div>"
      ],
      "text/plain": [
       "       JoiningYear  PaymentTier          Age  ExperienceInCurrentDomain  \\\n",
       "count  2764.000000  2764.000000  2764.000000                2764.000000   \n",
       "mean   2015.090449     2.636035    30.952967                   2.644356   \n",
       "std       1.885943     0.624001     5.108872                   1.610610   \n",
       "min    2012.000000     1.000000    22.000000                   0.000000   \n",
       "25%    2013.000000     2.000000    27.000000                   1.000000   \n",
       "50%    2015.000000     3.000000    30.000000                   2.000000   \n",
       "75%    2017.000000     3.000000    35.000000                   4.000000   \n",
       "max    2018.000000     3.000000    41.000000                   7.000000   \n",
       "\n",
       "        LeaveOrNot  \n",
       "count  2764.000000  \n",
       "mean      0.393632  \n",
       "std       0.488643  \n",
       "min       0.000000  \n",
       "25%       0.000000  \n",
       "50%       0.000000  \n",
       "75%       1.000000  \n",
       "max       1.000000  "
      ]
     },
     "execution_count": 33,
     "metadata": {},
     "output_type": "execute_result"
    }
   ],
   "source": [
    "df.describe()"
   ]
  },
  {
   "cell_type": "code",
   "execution_count": 34,
   "id": "f5aa56f6",
   "metadata": {},
   "outputs": [],
   "source": [
    "data = df.copy()"
   ]
  },
  {
   "cell_type": "code",
   "execution_count": 35,
   "id": "0aee49ca",
   "metadata": {},
   "outputs": [],
   "source": [
    "numerical_columns, categorical_columns = [], []\n",
    "for column in data.columns:\n",
    "    if data[column].dtype == 'object':\n",
    "        categorical_columns.append(column)\n",
    "    else:\n",
    "        numerical_columns.append(column)"
   ]
  },
  {
   "cell_type": "code",
   "execution_count": 36,
   "id": "624d165f",
   "metadata": {},
   "outputs": [
    {
     "name": "stdout",
     "output_type": "stream",
     "text": [
      "Education : Education\n",
      "Bachelors    1971\n",
      "Masters       637\n",
      "PHD           156\n",
      "Name: count, dtype: int64\n",
      "---------------------------------------------\n",
      "City : City\n",
      "Bangalore    1171\n",
      "Pune          801\n",
      "New Delhi     792\n",
      "Name: count, dtype: int64\n",
      "---------------------------------------------\n",
      "Gender : Gender\n",
      "Male      1529\n",
      "Female    1235\n",
      "Name: count, dtype: int64\n",
      "---------------------------------------------\n",
      "EverBenched : EverBenched\n",
      "No     2403\n",
      "Yes     361\n",
      "Name: count, dtype: int64\n",
      "---------------------------------------------\n"
     ]
    }
   ],
   "source": [
    "for column in categorical_columns:\n",
    "    print(f'{column} : {data[column].value_counts()}')\n",
    "    print('---------------------------------------------')"
   ]
  },
  {
   "cell_type": "code",
   "execution_count": 37,
   "id": "9e412bb4",
   "metadata": {},
   "outputs": [],
   "source": [
    "data = pd.get_dummies(data = data, columns = categorical_columns, drop_first = True, dtype = 'int')"
   ]
  },
  {
   "cell_type": "code",
   "execution_count": 38,
   "id": "5419e9ce",
   "metadata": {},
   "outputs": [
    {
     "data": {
      "text/html": [
       "<div>\n",
       "<style scoped>\n",
       "    .dataframe tbody tr th:only-of-type {\n",
       "        vertical-align: middle;\n",
       "    }\n",
       "\n",
       "    .dataframe tbody tr th {\n",
       "        vertical-align: top;\n",
       "    }\n",
       "\n",
       "    .dataframe thead th {\n",
       "        text-align: right;\n",
       "    }\n",
       "</style>\n",
       "<table border=\"1\" class=\"dataframe\">\n",
       "  <thead>\n",
       "    <tr style=\"text-align: right;\">\n",
       "      <th></th>\n",
       "      <th>JoiningYear</th>\n",
       "      <th>PaymentTier</th>\n",
       "      <th>Age</th>\n",
       "      <th>ExperienceInCurrentDomain</th>\n",
       "      <th>LeaveOrNot</th>\n",
       "      <th>Education_Masters</th>\n",
       "      <th>Education_PHD</th>\n",
       "      <th>City_New Delhi</th>\n",
       "      <th>City_Pune</th>\n",
       "      <th>Gender_Male</th>\n",
       "      <th>EverBenched_Yes</th>\n",
       "    </tr>\n",
       "  </thead>\n",
       "  <tbody>\n",
       "    <tr>\n",
       "      <th>0</th>\n",
       "      <td>2017</td>\n",
       "      <td>3</td>\n",
       "      <td>34</td>\n",
       "      <td>0</td>\n",
       "      <td>0</td>\n",
       "      <td>0</td>\n",
       "      <td>0</td>\n",
       "      <td>0</td>\n",
       "      <td>0</td>\n",
       "      <td>1</td>\n",
       "      <td>0</td>\n",
       "    </tr>\n",
       "    <tr>\n",
       "      <th>1</th>\n",
       "      <td>2013</td>\n",
       "      <td>1</td>\n",
       "      <td>28</td>\n",
       "      <td>3</td>\n",
       "      <td>1</td>\n",
       "      <td>0</td>\n",
       "      <td>0</td>\n",
       "      <td>0</td>\n",
       "      <td>1</td>\n",
       "      <td>0</td>\n",
       "      <td>0</td>\n",
       "    </tr>\n",
       "    <tr>\n",
       "      <th>2</th>\n",
       "      <td>2014</td>\n",
       "      <td>3</td>\n",
       "      <td>38</td>\n",
       "      <td>2</td>\n",
       "      <td>0</td>\n",
       "      <td>0</td>\n",
       "      <td>0</td>\n",
       "      <td>1</td>\n",
       "      <td>0</td>\n",
       "      <td>0</td>\n",
       "      <td>0</td>\n",
       "    </tr>\n",
       "    <tr>\n",
       "      <th>3</th>\n",
       "      <td>2016</td>\n",
       "      <td>3</td>\n",
       "      <td>27</td>\n",
       "      <td>5</td>\n",
       "      <td>1</td>\n",
       "      <td>1</td>\n",
       "      <td>0</td>\n",
       "      <td>0</td>\n",
       "      <td>0</td>\n",
       "      <td>1</td>\n",
       "      <td>0</td>\n",
       "    </tr>\n",
       "    <tr>\n",
       "      <th>4</th>\n",
       "      <td>2017</td>\n",
       "      <td>3</td>\n",
       "      <td>24</td>\n",
       "      <td>2</td>\n",
       "      <td>1</td>\n",
       "      <td>1</td>\n",
       "      <td>0</td>\n",
       "      <td>0</td>\n",
       "      <td>1</td>\n",
       "      <td>1</td>\n",
       "      <td>1</td>\n",
       "    </tr>\n",
       "  </tbody>\n",
       "</table>\n",
       "</div>"
      ],
      "text/plain": [
       "   JoiningYear  PaymentTier  Age  ExperienceInCurrentDomain  LeaveOrNot  \\\n",
       "0         2017            3   34                          0           0   \n",
       "1         2013            1   28                          3           1   \n",
       "2         2014            3   38                          2           0   \n",
       "3         2016            3   27                          5           1   \n",
       "4         2017            3   24                          2           1   \n",
       "\n",
       "   Education_Masters  Education_PHD  City_New Delhi  City_Pune  Gender_Male  \\\n",
       "0                  0              0               0          0            1   \n",
       "1                  0              0               0          1            0   \n",
       "2                  0              0               1          0            0   \n",
       "3                  1              0               0          0            1   \n",
       "4                  1              0               0          1            1   \n",
       "\n",
       "   EverBenched_Yes  \n",
       "0                0  \n",
       "1                0  \n",
       "2                0  \n",
       "3                0  \n",
       "4                1  "
      ]
     },
     "execution_count": 38,
     "metadata": {},
     "output_type": "execute_result"
    }
   ],
   "source": [
    "data.head()"
   ]
  },
  {
   "cell_type": "code",
   "execution_count": 39,
   "id": "17ab739a",
   "metadata": {},
   "outputs": [
    {
     "data": {
      "text/plain": [
       "(2764, 11)"
      ]
     },
     "execution_count": 39,
     "metadata": {},
     "output_type": "execute_result"
    }
   ],
   "source": [
    "data.shape"
   ]
  },
  {
   "cell_type": "code",
   "execution_count": 40,
   "id": "143b557b",
   "metadata": {},
   "outputs": [
    {
     "data": {
      "text/plain": [
       "Index(['JoiningYear', 'PaymentTier', 'Age', 'ExperienceInCurrentDomain',\n",
       "       'LeaveOrNot', 'Education_Masters', 'Education_PHD', 'City_New Delhi',\n",
       "       'City_Pune', 'Gender_Male', 'EverBenched_Yes'],\n",
       "      dtype='object')"
      ]
     },
     "execution_count": 40,
     "metadata": {},
     "output_type": "execute_result"
    }
   ],
   "source": [
    "data.columns"
   ]
  },
  {
   "cell_type": "code",
   "execution_count": 41,
   "id": "8a8ef529",
   "metadata": {},
   "outputs": [
    {
     "data": {
      "text/plain": [
       "LeaveOrNot\n",
       "0    1676\n",
       "1    1088\n",
       "Name: count, dtype: int64"
      ]
     },
     "execution_count": 41,
     "metadata": {},
     "output_type": "execute_result"
    }
   ],
   "source": [
    "data['LeaveOrNot'].value_counts()"
   ]
  },
  {
   "cell_type": "code",
   "execution_count": 42,
   "id": "7ff1f213",
   "metadata": {},
   "outputs": [],
   "source": [
    "X = data.drop(columns = ['LeaveOrNot'], axis = 1)\n",
    "y = data['LeaveOrNot']"
   ]
  },
  {
   "cell_type": "code",
   "execution_count": 43,
   "id": "e800705d",
   "metadata": {},
   "outputs": [],
   "source": [
    "X_train, X_test, y_train, y_test = train_test_split(X, y, test_size = 0.2, random_state = 101, stratify = y, shuffle = True)"
   ]
  },
  {
   "cell_type": "code",
   "execution_count": 44,
   "id": "3c9c6ac9",
   "metadata": {},
   "outputs": [],
   "source": [
    "x_s = np.ones(X_train.shape[0])"
   ]
  },
  {
   "cell_type": "code",
   "execution_count": 45,
   "id": "2da788e3",
   "metadata": {},
   "outputs": [
    {
     "name": "stdout",
     "output_type": "stream",
     "text": [
      "Optimization terminated successfully.\n",
      "         Current function value: 0.670282\n",
      "         Iterations 4\n"
     ]
    },
    {
     "data": {
      "text/html": [
       "<table class=\"simpletable\">\n",
       "<caption>Logit Regression Results</caption>\n",
       "<tr>\n",
       "  <th>Dep. Variable:</th>      <td>LeaveOrNot</td>    <th>  No. Observations:  </th>  <td>  2211</td>  \n",
       "</tr>\n",
       "<tr>\n",
       "  <th>Model:</th>                 <td>Logit</td>      <th>  Df Residuals:      </th>  <td>  2210</td>  \n",
       "</tr>\n",
       "<tr>\n",
       "  <th>Method:</th>                 <td>MLE</td>       <th>  Df Model:          </th>  <td>     0</td>  \n",
       "</tr>\n",
       "<tr>\n",
       "  <th>Date:</th>            <td>Tue, 24 Sep 2024</td> <th>  Pseudo R-squ.:     </th> <td>1.720e-11</td>\n",
       "</tr>\n",
       "<tr>\n",
       "  <th>Time:</th>                <td>01:47:55</td>     <th>  Log-Likelihood:    </th> <td> -1482.0</td> \n",
       "</tr>\n",
       "<tr>\n",
       "  <th>converged:</th>             <td>True</td>       <th>  LL-Null:           </th> <td> -1482.0</td> \n",
       "</tr>\n",
       "<tr>\n",
       "  <th>Covariance Type:</th>     <td>nonrobust</td>    <th>  LLR p-value:       </th>  <td>   nan</td>  \n",
       "</tr>\n",
       "</table>\n",
       "<table class=\"simpletable\">\n",
       "<tr>\n",
       "    <td></td>       <th>coef</th>     <th>std err</th>      <th>z</th>      <th>P>|z|</th>  <th>[0.025</th>    <th>0.975]</th>  \n",
       "</tr>\n",
       "<tr>\n",
       "  <th>const</th> <td>   -0.4327</td> <td>    0.044</td> <td>   -9.939</td> <td> 0.000</td> <td>   -0.518</td> <td>   -0.347</td>\n",
       "</tr>\n",
       "</table>"
      ],
      "text/latex": [
       "\\begin{center}\n",
       "\\begin{tabular}{lclc}\n",
       "\\toprule\n",
       "\\textbf{Dep. Variable:}   &    LeaveOrNot    & \\textbf{  No. Observations:  } &     2211    \\\\\n",
       "\\textbf{Model:}           &      Logit       & \\textbf{  Df Residuals:      } &     2210    \\\\\n",
       "\\textbf{Method:}          &       MLE        & \\textbf{  Df Model:          } &        0    \\\\\n",
       "\\textbf{Date:}            & Tue, 24 Sep 2024 & \\textbf{  Pseudo R-squ.:     } & 1.720e-11   \\\\\n",
       "\\textbf{Time:}            &     01:47:55     & \\textbf{  Log-Likelihood:    } &   -1482.0   \\\\\n",
       "\\textbf{converged:}       &       True       & \\textbf{  LL-Null:           } &   -1482.0   \\\\\n",
       "\\textbf{Covariance Type:} &    nonrobust     & \\textbf{  LLR p-value:       } &      nan    \\\\\n",
       "\\bottomrule\n",
       "\\end{tabular}\n",
       "\\begin{tabular}{lcccccc}\n",
       "               & \\textbf{coef} & \\textbf{std err} & \\textbf{z} & \\textbf{P$> |$z$|$} & \\textbf{[0.025} & \\textbf{0.975]}  \\\\\n",
       "\\midrule\n",
       "\\textbf{const} &      -0.4327  &        0.044     &    -9.939  &         0.000        &       -0.518    &       -0.347     \\\\\n",
       "\\bottomrule\n",
       "\\end{tabular}\n",
       "%\\caption{Logit Regression Results}\n",
       "\\end{center}"
      ],
      "text/plain": [
       "<class 'statsmodels.iolib.summary.Summary'>\n",
       "\"\"\"\n",
       "                           Logit Regression Results                           \n",
       "==============================================================================\n",
       "Dep. Variable:             LeaveOrNot   No. Observations:                 2211\n",
       "Model:                          Logit   Df Residuals:                     2210\n",
       "Method:                           MLE   Df Model:                            0\n",
       "Date:                Tue, 24 Sep 2024   Pseudo R-squ.:               1.720e-11\n",
       "Time:                        01:47:55   Log-Likelihood:                -1482.0\n",
       "converged:                       True   LL-Null:                       -1482.0\n",
       "Covariance Type:            nonrobust   LLR p-value:                       nan\n",
       "==============================================================================\n",
       "                 coef    std err          z      P>|z|      [0.025      0.975]\n",
       "------------------------------------------------------------------------------\n",
       "const         -0.4327      0.044     -9.939      0.000      -0.518      -0.347\n",
       "==============================================================================\n",
       "\"\"\""
      ]
     },
     "execution_count": 45,
     "metadata": {},
     "output_type": "execute_result"
    }
   ],
   "source": [
    "model = sm.Logit(y_train, x_s).fit()\n",
    "model.summary()"
   ]
  },
  {
   "cell_type": "code",
   "execution_count": 46,
   "id": "ecaeacb6",
   "metadata": {},
   "outputs": [
    {
     "name": "stdout",
     "output_type": "stream",
     "text": [
      "Optimization terminated successfully.\n",
      "         Current function value: 0.659206\n",
      "         Iterations 6\n"
     ]
    },
    {
     "data": {
      "text/html": [
       "<table class=\"simpletable\">\n",
       "<caption>Logit Regression Results</caption>\n",
       "<tr>\n",
       "  <th>Dep. Variable:</th>      <td>LeaveOrNot</td>    <th>  No. Observations:  </th>  <td>  2211</td>  \n",
       "</tr>\n",
       "<tr>\n",
       "  <th>Model:</th>                 <td>Logit</td>      <th>  Df Residuals:      </th>  <td>  2209</td>  \n",
       "</tr>\n",
       "<tr>\n",
       "  <th>Method:</th>                 <td>MLE</td>       <th>  Df Model:          </th>  <td>     1</td>  \n",
       "</tr>\n",
       "<tr>\n",
       "  <th>Date:</th>            <td>Tue, 24 Sep 2024</td> <th>  Pseudo R-squ.:     </th>  <td>0.01652</td> \n",
       "</tr>\n",
       "<tr>\n",
       "  <th>Time:</th>                <td>01:47:55</td>     <th>  Log-Likelihood:    </th> <td> -1457.5</td> \n",
       "</tr>\n",
       "<tr>\n",
       "  <th>converged:</th>             <td>True</td>       <th>  LL-Null:           </th> <td> -1482.0</td> \n",
       "</tr>\n",
       "<tr>\n",
       "  <th>Covariance Type:</th>     <td>nonrobust</td>    <th>  LLR p-value:       </th> <td>2.589e-12</td>\n",
       "</tr>\n",
       "</table>\n",
       "<table class=\"simpletable\">\n",
       "<tr>\n",
       "       <td></td>          <th>coef</th>     <th>std err</th>      <th>z</th>      <th>P>|z|</th>  <th>[0.025</th>    <th>0.975]</th>  \n",
       "</tr>\n",
       "<tr>\n",
       "  <th>const</th>       <td> -328.5572</td> <td>   47.458</td> <td>   -6.923</td> <td> 0.000</td> <td> -421.573</td> <td> -235.541</td>\n",
       "</tr>\n",
       "<tr>\n",
       "  <th>JoiningYear</th> <td>    0.1628</td> <td>    0.024</td> <td>    6.914</td> <td> 0.000</td> <td>    0.117</td> <td>    0.209</td>\n",
       "</tr>\n",
       "</table>"
      ],
      "text/latex": [
       "\\begin{center}\n",
       "\\begin{tabular}{lclc}\n",
       "\\toprule\n",
       "\\textbf{Dep. Variable:}   &    LeaveOrNot    & \\textbf{  No. Observations:  } &     2211    \\\\\n",
       "\\textbf{Model:}           &      Logit       & \\textbf{  Df Residuals:      } &     2209    \\\\\n",
       "\\textbf{Method:}          &       MLE        & \\textbf{  Df Model:          } &        1    \\\\\n",
       "\\textbf{Date:}            & Tue, 24 Sep 2024 & \\textbf{  Pseudo R-squ.:     } &  0.01652    \\\\\n",
       "\\textbf{Time:}            &     01:47:55     & \\textbf{  Log-Likelihood:    } &   -1457.5   \\\\\n",
       "\\textbf{converged:}       &       True       & \\textbf{  LL-Null:           } &   -1482.0   \\\\\n",
       "\\textbf{Covariance Type:} &    nonrobust     & \\textbf{  LLR p-value:       } & 2.589e-12   \\\\\n",
       "\\bottomrule\n",
       "\\end{tabular}\n",
       "\\begin{tabular}{lcccccc}\n",
       "                     & \\textbf{coef} & \\textbf{std err} & \\textbf{z} & \\textbf{P$> |$z$|$} & \\textbf{[0.025} & \\textbf{0.975]}  \\\\\n",
       "\\midrule\n",
       "\\textbf{const}       &    -328.5572  &       47.458     &    -6.923  &         0.000        &     -421.573    &     -235.541     \\\\\n",
       "\\textbf{JoiningYear} &       0.1628  &        0.024     &     6.914  &         0.000        &        0.117    &        0.209     \\\\\n",
       "\\bottomrule\n",
       "\\end{tabular}\n",
       "%\\caption{Logit Regression Results}\n",
       "\\end{center}"
      ],
      "text/plain": [
       "<class 'statsmodels.iolib.summary.Summary'>\n",
       "\"\"\"\n",
       "                           Logit Regression Results                           \n",
       "==============================================================================\n",
       "Dep. Variable:             LeaveOrNot   No. Observations:                 2211\n",
       "Model:                          Logit   Df Residuals:                     2209\n",
       "Method:                           MLE   Df Model:                            1\n",
       "Date:                Tue, 24 Sep 2024   Pseudo R-squ.:                 0.01652\n",
       "Time:                        01:47:55   Log-Likelihood:                -1457.5\n",
       "converged:                       True   LL-Null:                       -1482.0\n",
       "Covariance Type:            nonrobust   LLR p-value:                 2.589e-12\n",
       "===============================================================================\n",
       "                  coef    std err          z      P>|z|      [0.025      0.975]\n",
       "-------------------------------------------------------------------------------\n",
       "const        -328.5572     47.458     -6.923      0.000    -421.573    -235.541\n",
       "JoiningYear     0.1628      0.024      6.914      0.000       0.117       0.209\n",
       "===============================================================================\n",
       "\"\"\""
      ]
     },
     "execution_count": 46,
     "metadata": {},
     "output_type": "execute_result"
    }
   ],
   "source": [
    "x1 = X_train[['JoiningYear']]\n",
    "x1_1 = sm.add_constant(x1)\n",
    "model1 = sm.Logit(y_train, x1_1).fit()\n",
    "model1.summary()"
   ]
  },
  {
   "cell_type": "code",
   "execution_count": 47,
   "id": "c50bb364",
   "metadata": {},
   "outputs": [
    {
     "name": "stdout",
     "output_type": "stream",
     "text": [
      "Optimization terminated successfully.\n",
      "         Current function value: 0.652810\n",
      "         Iterations 6\n"
     ]
    },
    {
     "data": {
      "text/html": [
       "<table class=\"simpletable\">\n",
       "<caption>Logit Regression Results</caption>\n",
       "<tr>\n",
       "  <th>Dep. Variable:</th>      <td>LeaveOrNot</td>    <th>  No. Observations:  </th>  <td>  2211</td>  \n",
       "</tr>\n",
       "<tr>\n",
       "  <th>Model:</th>                 <td>Logit</td>      <th>  Df Residuals:      </th>  <td>  2208</td>  \n",
       "</tr>\n",
       "<tr>\n",
       "  <th>Method:</th>                 <td>MLE</td>       <th>  Df Model:          </th>  <td>     2</td>  \n",
       "</tr>\n",
       "<tr>\n",
       "  <th>Date:</th>            <td>Tue, 24 Sep 2024</td> <th>  Pseudo R-squ.:     </th>  <td>0.02607</td> \n",
       "</tr>\n",
       "<tr>\n",
       "  <th>Time:</th>                <td>01:47:55</td>     <th>  Log-Likelihood:    </th> <td> -1443.4</td> \n",
       "</tr>\n",
       "<tr>\n",
       "  <th>converged:</th>             <td>True</td>       <th>  LL-Null:           </th> <td> -1482.0</td> \n",
       "</tr>\n",
       "<tr>\n",
       "  <th>Covariance Type:</th>     <td>nonrobust</td>    <th>  LLR p-value:       </th> <td>1.668e-17</td>\n",
       "</tr>\n",
       "</table>\n",
       "<table class=\"simpletable\">\n",
       "<tr>\n",
       "       <td></td>          <th>coef</th>     <th>std err</th>      <th>z</th>      <th>P>|z|</th>  <th>[0.025</th>    <th>0.975]</th>  \n",
       "</tr>\n",
       "<tr>\n",
       "  <th>const</th>       <td> -316.7138</td> <td>   47.800</td> <td>   -6.626</td> <td> 0.000</td> <td> -410.400</td> <td> -223.028</td>\n",
       "</tr>\n",
       "<tr>\n",
       "  <th>JoiningYear</th> <td>    0.1574</td> <td>    0.024</td> <td>    6.638</td> <td> 0.000</td> <td>    0.111</td> <td>    0.204</td>\n",
       "</tr>\n",
       "<tr>\n",
       "  <th>PaymentTier</th> <td>   -0.3702</td> <td>    0.070</td> <td>   -5.323</td> <td> 0.000</td> <td>   -0.506</td> <td>   -0.234</td>\n",
       "</tr>\n",
       "</table>"
      ],
      "text/latex": [
       "\\begin{center}\n",
       "\\begin{tabular}{lclc}\n",
       "\\toprule\n",
       "\\textbf{Dep. Variable:}   &    LeaveOrNot    & \\textbf{  No. Observations:  } &     2211    \\\\\n",
       "\\textbf{Model:}           &      Logit       & \\textbf{  Df Residuals:      } &     2208    \\\\\n",
       "\\textbf{Method:}          &       MLE        & \\textbf{  Df Model:          } &        2    \\\\\n",
       "\\textbf{Date:}            & Tue, 24 Sep 2024 & \\textbf{  Pseudo R-squ.:     } &  0.02607    \\\\\n",
       "\\textbf{Time:}            &     01:47:55     & \\textbf{  Log-Likelihood:    } &   -1443.4   \\\\\n",
       "\\textbf{converged:}       &       True       & \\textbf{  LL-Null:           } &   -1482.0   \\\\\n",
       "\\textbf{Covariance Type:} &    nonrobust     & \\textbf{  LLR p-value:       } & 1.668e-17   \\\\\n",
       "\\bottomrule\n",
       "\\end{tabular}\n",
       "\\begin{tabular}{lcccccc}\n",
       "                     & \\textbf{coef} & \\textbf{std err} & \\textbf{z} & \\textbf{P$> |$z$|$} & \\textbf{[0.025} & \\textbf{0.975]}  \\\\\n",
       "\\midrule\n",
       "\\textbf{const}       &    -316.7138  &       47.800     &    -6.626  &         0.000        &     -410.400    &     -223.028     \\\\\n",
       "\\textbf{JoiningYear} &       0.1574  &        0.024     &     6.638  &         0.000        &        0.111    &        0.204     \\\\\n",
       "\\textbf{PaymentTier} &      -0.3702  &        0.070     &    -5.323  &         0.000        &       -0.506    &       -0.234     \\\\\n",
       "\\bottomrule\n",
       "\\end{tabular}\n",
       "%\\caption{Logit Regression Results}\n",
       "\\end{center}"
      ],
      "text/plain": [
       "<class 'statsmodels.iolib.summary.Summary'>\n",
       "\"\"\"\n",
       "                           Logit Regression Results                           \n",
       "==============================================================================\n",
       "Dep. Variable:             LeaveOrNot   No. Observations:                 2211\n",
       "Model:                          Logit   Df Residuals:                     2208\n",
       "Method:                           MLE   Df Model:                            2\n",
       "Date:                Tue, 24 Sep 2024   Pseudo R-squ.:                 0.02607\n",
       "Time:                        01:47:55   Log-Likelihood:                -1443.4\n",
       "converged:                       True   LL-Null:                       -1482.0\n",
       "Covariance Type:            nonrobust   LLR p-value:                 1.668e-17\n",
       "===============================================================================\n",
       "                  coef    std err          z      P>|z|      [0.025      0.975]\n",
       "-------------------------------------------------------------------------------\n",
       "const        -316.7138     47.800     -6.626      0.000    -410.400    -223.028\n",
       "JoiningYear     0.1574      0.024      6.638      0.000       0.111       0.204\n",
       "PaymentTier    -0.3702      0.070     -5.323      0.000      -0.506      -0.234\n",
       "===============================================================================\n",
       "\"\"\""
      ]
     },
     "execution_count": 47,
     "metadata": {},
     "output_type": "execute_result"
    }
   ],
   "source": [
    "x2 = X_train[['JoiningYear', 'PaymentTier']]\n",
    "x2_1 = sm.add_constant(x2)\n",
    "model2 = sm.Logit(y_train, x2_1).fit()\n",
    "model2.summary()"
   ]
  },
  {
   "cell_type": "code",
   "execution_count": 48,
   "id": "7f6b3f53",
   "metadata": {},
   "outputs": [
    {
     "name": "stdout",
     "output_type": "stream",
     "text": [
      "Optimization terminated successfully.\n",
      "         Current function value: 0.646499\n",
      "         Iterations 6\n"
     ]
    },
    {
     "data": {
      "text/html": [
       "<table class=\"simpletable\">\n",
       "<caption>Logit Regression Results</caption>\n",
       "<tr>\n",
       "  <th>Dep. Variable:</th>      <td>LeaveOrNot</td>    <th>  No. Observations:  </th>  <td>  2211</td>  \n",
       "</tr>\n",
       "<tr>\n",
       "  <th>Model:</th>                 <td>Logit</td>      <th>  Df Residuals:      </th>  <td>  2207</td>  \n",
       "</tr>\n",
       "<tr>\n",
       "  <th>Method:</th>                 <td>MLE</td>       <th>  Df Model:          </th>  <td>     3</td>  \n",
       "</tr>\n",
       "<tr>\n",
       "  <th>Date:</th>            <td>Tue, 24 Sep 2024</td> <th>  Pseudo R-squ.:     </th>  <td>0.03548</td> \n",
       "</tr>\n",
       "<tr>\n",
       "  <th>Time:</th>                <td>01:47:56</td>     <th>  Log-Likelihood:    </th> <td> -1429.4</td> \n",
       "</tr>\n",
       "<tr>\n",
       "  <th>converged:</th>             <td>True</td>       <th>  LL-Null:           </th> <td> -1482.0</td> \n",
       "</tr>\n",
       "<tr>\n",
       "  <th>Covariance Type:</th>     <td>nonrobust</td>    <th>  LLR p-value:       </th> <td>1.202e-22</td>\n",
       "</tr>\n",
       "</table>\n",
       "<table class=\"simpletable\">\n",
       "<tr>\n",
       "       <td></td>          <th>coef</th>     <th>std err</th>      <th>z</th>      <th>P>|z|</th>  <th>[0.025</th>    <th>0.975]</th>  \n",
       "</tr>\n",
       "<tr>\n",
       "  <th>const</th>       <td> -327.6193</td> <td>   48.180</td> <td>   -6.800</td> <td> 0.000</td> <td> -422.049</td> <td> -233.189</td>\n",
       "</tr>\n",
       "<tr>\n",
       "  <th>JoiningYear</th> <td>    0.1635</td> <td>    0.024</td> <td>    6.839</td> <td> 0.000</td> <td>    0.117</td> <td>    0.210</td>\n",
       "</tr>\n",
       "<tr>\n",
       "  <th>PaymentTier</th> <td>   -0.3521</td> <td>    0.070</td> <td>   -5.024</td> <td> 0.000</td> <td>   -0.489</td> <td>   -0.215</td>\n",
       "</tr>\n",
       "<tr>\n",
       "  <th>Age</th>         <td>   -0.0467</td> <td>    0.009</td> <td>   -5.232</td> <td> 0.000</td> <td>   -0.064</td> <td>   -0.029</td>\n",
       "</tr>\n",
       "</table>"
      ],
      "text/latex": [
       "\\begin{center}\n",
       "\\begin{tabular}{lclc}\n",
       "\\toprule\n",
       "\\textbf{Dep. Variable:}   &    LeaveOrNot    & \\textbf{  No. Observations:  } &     2211    \\\\\n",
       "\\textbf{Model:}           &      Logit       & \\textbf{  Df Residuals:      } &     2207    \\\\\n",
       "\\textbf{Method:}          &       MLE        & \\textbf{  Df Model:          } &        3    \\\\\n",
       "\\textbf{Date:}            & Tue, 24 Sep 2024 & \\textbf{  Pseudo R-squ.:     } &  0.03548    \\\\\n",
       "\\textbf{Time:}            &     01:47:56     & \\textbf{  Log-Likelihood:    } &   -1429.4   \\\\\n",
       "\\textbf{converged:}       &       True       & \\textbf{  LL-Null:           } &   -1482.0   \\\\\n",
       "\\textbf{Covariance Type:} &    nonrobust     & \\textbf{  LLR p-value:       } & 1.202e-22   \\\\\n",
       "\\bottomrule\n",
       "\\end{tabular}\n",
       "\\begin{tabular}{lcccccc}\n",
       "                     & \\textbf{coef} & \\textbf{std err} & \\textbf{z} & \\textbf{P$> |$z$|$} & \\textbf{[0.025} & \\textbf{0.975]}  \\\\\n",
       "\\midrule\n",
       "\\textbf{const}       &    -327.6193  &       48.180     &    -6.800  &         0.000        &     -422.049    &     -233.189     \\\\\n",
       "\\textbf{JoiningYear} &       0.1635  &        0.024     &     6.839  &         0.000        &        0.117    &        0.210     \\\\\n",
       "\\textbf{PaymentTier} &      -0.3521  &        0.070     &    -5.024  &         0.000        &       -0.489    &       -0.215     \\\\\n",
       "\\textbf{Age}         &      -0.0467  &        0.009     &    -5.232  &         0.000        &       -0.064    &       -0.029     \\\\\n",
       "\\bottomrule\n",
       "\\end{tabular}\n",
       "%\\caption{Logit Regression Results}\n",
       "\\end{center}"
      ],
      "text/plain": [
       "<class 'statsmodels.iolib.summary.Summary'>\n",
       "\"\"\"\n",
       "                           Logit Regression Results                           \n",
       "==============================================================================\n",
       "Dep. Variable:             LeaveOrNot   No. Observations:                 2211\n",
       "Model:                          Logit   Df Residuals:                     2207\n",
       "Method:                           MLE   Df Model:                            3\n",
       "Date:                Tue, 24 Sep 2024   Pseudo R-squ.:                 0.03548\n",
       "Time:                        01:47:56   Log-Likelihood:                -1429.4\n",
       "converged:                       True   LL-Null:                       -1482.0\n",
       "Covariance Type:            nonrobust   LLR p-value:                 1.202e-22\n",
       "===============================================================================\n",
       "                  coef    std err          z      P>|z|      [0.025      0.975]\n",
       "-------------------------------------------------------------------------------\n",
       "const        -327.6193     48.180     -6.800      0.000    -422.049    -233.189\n",
       "JoiningYear     0.1635      0.024      6.839      0.000       0.117       0.210\n",
       "PaymentTier    -0.3521      0.070     -5.024      0.000      -0.489      -0.215\n",
       "Age            -0.0467      0.009     -5.232      0.000      -0.064      -0.029\n",
       "===============================================================================\n",
       "\"\"\""
      ]
     },
     "execution_count": 48,
     "metadata": {},
     "output_type": "execute_result"
    }
   ],
   "source": [
    "x3 = X_train[['JoiningYear', 'PaymentTier', 'Age']]\n",
    "x3_1 = sm.add_constant(x3)\n",
    "model3 = sm.Logit(y_train, x3_1).fit()\n",
    "model3.summary()"
   ]
  },
  {
   "cell_type": "code",
   "execution_count": 49,
   "id": "a0419a69",
   "metadata": {},
   "outputs": [
    {
     "name": "stdout",
     "output_type": "stream",
     "text": [
      "Optimization terminated successfully.\n",
      "         Current function value: 0.646295\n",
      "         Iterations 6\n"
     ]
    },
    {
     "data": {
      "text/html": [
       "<table class=\"simpletable\">\n",
       "<caption>Logit Regression Results</caption>\n",
       "<tr>\n",
       "  <th>Dep. Variable:</th>      <td>LeaveOrNot</td>    <th>  No. Observations:  </th>  <td>  2211</td>  \n",
       "</tr>\n",
       "<tr>\n",
       "  <th>Model:</th>                 <td>Logit</td>      <th>  Df Residuals:      </th>  <td>  2206</td>  \n",
       "</tr>\n",
       "<tr>\n",
       "  <th>Method:</th>                 <td>MLE</td>       <th>  Df Model:          </th>  <td>     4</td>  \n",
       "</tr>\n",
       "<tr>\n",
       "  <th>Date:</th>            <td>Tue, 24 Sep 2024</td> <th>  Pseudo R-squ.:     </th>  <td>0.03579</td> \n",
       "</tr>\n",
       "<tr>\n",
       "  <th>Time:</th>                <td>01:50:52</td>     <th>  Log-Likelihood:    </th> <td> -1429.0</td> \n",
       "</tr>\n",
       "<tr>\n",
       "  <th>converged:</th>             <td>True</td>       <th>  LL-Null:           </th> <td> -1482.0</td> \n",
       "</tr>\n",
       "<tr>\n",
       "  <th>Covariance Type:</th>     <td>nonrobust</td>    <th>  LLR p-value:       </th> <td>5.001e-22</td>\n",
       "</tr>\n",
       "</table>\n",
       "<table class=\"simpletable\">\n",
       "<tr>\n",
       "              <td></td>                 <th>coef</th>     <th>std err</th>      <th>z</th>      <th>P>|z|</th>  <th>[0.025</th>    <th>0.975]</th>  \n",
       "</tr>\n",
       "<tr>\n",
       "  <th>const</th>                     <td> -326.2162</td> <td>   48.207</td> <td>   -6.767</td> <td> 0.000</td> <td> -420.700</td> <td> -231.733</td>\n",
       "</tr>\n",
       "<tr>\n",
       "  <th>JoiningYear</th>               <td>    0.1629</td> <td>    0.024</td> <td>    6.808</td> <td> 0.000</td> <td>    0.116</td> <td>    0.210</td>\n",
       "</tr>\n",
       "<tr>\n",
       "  <th>PaymentTier</th>               <td>   -0.3513</td> <td>    0.070</td> <td>   -5.012</td> <td> 0.000</td> <td>   -0.489</td> <td>   -0.214</td>\n",
       "</tr>\n",
       "<tr>\n",
       "  <th>Age</th>                       <td>   -0.0474</td> <td>    0.009</td> <td>   -5.284</td> <td> 0.000</td> <td>   -0.065</td> <td>   -0.030</td>\n",
       "</tr>\n",
       "<tr>\n",
       "  <th>ExperienceInCurrentDomain</th> <td>   -0.0264</td> <td>    0.028</td> <td>   -0.951</td> <td> 0.342</td> <td>   -0.081</td> <td>    0.028</td>\n",
       "</tr>\n",
       "</table>"
      ],
      "text/latex": [
       "\\begin{center}\n",
       "\\begin{tabular}{lclc}\n",
       "\\toprule\n",
       "\\textbf{Dep. Variable:}            &    LeaveOrNot    & \\textbf{  No. Observations:  } &     2211    \\\\\n",
       "\\textbf{Model:}                    &      Logit       & \\textbf{  Df Residuals:      } &     2206    \\\\\n",
       "\\textbf{Method:}                   &       MLE        & \\textbf{  Df Model:          } &        4    \\\\\n",
       "\\textbf{Date:}                     & Tue, 24 Sep 2024 & \\textbf{  Pseudo R-squ.:     } &  0.03579    \\\\\n",
       "\\textbf{Time:}                     &     01:50:52     & \\textbf{  Log-Likelihood:    } &   -1429.0   \\\\\n",
       "\\textbf{converged:}                &       True       & \\textbf{  LL-Null:           } &   -1482.0   \\\\\n",
       "\\textbf{Covariance Type:}          &    nonrobust     & \\textbf{  LLR p-value:       } & 5.001e-22   \\\\\n",
       "\\bottomrule\n",
       "\\end{tabular}\n",
       "\\begin{tabular}{lcccccc}\n",
       "                                   & \\textbf{coef} & \\textbf{std err} & \\textbf{z} & \\textbf{P$> |$z$|$} & \\textbf{[0.025} & \\textbf{0.975]}  \\\\\n",
       "\\midrule\n",
       "\\textbf{const}                     &    -326.2162  &       48.207     &    -6.767  &         0.000        &     -420.700    &     -231.733     \\\\\n",
       "\\textbf{JoiningYear}               &       0.1629  &        0.024     &     6.808  &         0.000        &        0.116    &        0.210     \\\\\n",
       "\\textbf{PaymentTier}               &      -0.3513  &        0.070     &    -5.012  &         0.000        &       -0.489    &       -0.214     \\\\\n",
       "\\textbf{Age}                       &      -0.0474  &        0.009     &    -5.284  &         0.000        &       -0.065    &       -0.030     \\\\\n",
       "\\textbf{ExperienceInCurrentDomain} &      -0.0264  &        0.028     &    -0.951  &         0.342        &       -0.081    &        0.028     \\\\\n",
       "\\bottomrule\n",
       "\\end{tabular}\n",
       "%\\caption{Logit Regression Results}\n",
       "\\end{center}"
      ],
      "text/plain": [
       "<class 'statsmodels.iolib.summary.Summary'>\n",
       "\"\"\"\n",
       "                           Logit Regression Results                           \n",
       "==============================================================================\n",
       "Dep. Variable:             LeaveOrNot   No. Observations:                 2211\n",
       "Model:                          Logit   Df Residuals:                     2206\n",
       "Method:                           MLE   Df Model:                            4\n",
       "Date:                Tue, 24 Sep 2024   Pseudo R-squ.:                 0.03579\n",
       "Time:                        01:50:52   Log-Likelihood:                -1429.0\n",
       "converged:                       True   LL-Null:                       -1482.0\n",
       "Covariance Type:            nonrobust   LLR p-value:                 5.001e-22\n",
       "=============================================================================================\n",
       "                                coef    std err          z      P>|z|      [0.025      0.975]\n",
       "---------------------------------------------------------------------------------------------\n",
       "const                      -326.2162     48.207     -6.767      0.000    -420.700    -231.733\n",
       "JoiningYear                   0.1629      0.024      6.808      0.000       0.116       0.210\n",
       "PaymentTier                  -0.3513      0.070     -5.012      0.000      -0.489      -0.214\n",
       "Age                          -0.0474      0.009     -5.284      0.000      -0.065      -0.030\n",
       "ExperienceInCurrentDomain    -0.0264      0.028     -0.951      0.342      -0.081       0.028\n",
       "=============================================================================================\n",
       "\"\"\""
      ]
     },
     "execution_count": 49,
     "metadata": {},
     "output_type": "execute_result"
    }
   ],
   "source": [
    "x4 = X_train[['JoiningYear', 'PaymentTier', 'Age', 'ExperienceInCurrentDomain']]\n",
    "x4_1 = sm.add_constant(x4)\n",
    "model4 = sm.Logit(y_train, x4_1).fit()\n",
    "model4.summary()"
   ]
  },
  {
   "cell_type": "code",
   "execution_count": 50,
   "id": "5bdf818d",
   "metadata": {},
   "outputs": [
    {
     "name": "stdout",
     "output_type": "stream",
     "text": [
      "Optimization terminated successfully.\n",
      "         Current function value: 0.610791\n",
      "         Iterations 6\n"
     ]
    },
    {
     "data": {
      "text/html": [
       "<table class=\"simpletable\">\n",
       "<caption>Logit Regression Results</caption>\n",
       "<tr>\n",
       "  <th>Dep. Variable:</th>      <td>LeaveOrNot</td>    <th>  No. Observations:  </th>  <td>  2211</td>  \n",
       "</tr>\n",
       "<tr>\n",
       "  <th>Model:</th>                 <td>Logit</td>      <th>  Df Residuals:      </th>  <td>  2200</td>  \n",
       "</tr>\n",
       "<tr>\n",
       "  <th>Method:</th>                 <td>MLE</td>       <th>  Df Model:          </th>  <td>    10</td>  \n",
       "</tr>\n",
       "<tr>\n",
       "  <th>Date:</th>            <td>Tue, 24 Sep 2024</td> <th>  Pseudo R-squ.:     </th>  <td>0.08876</td> \n",
       "</tr>\n",
       "<tr>\n",
       "  <th>Time:</th>                <td>01:52:45</td>     <th>  Log-Likelihood:    </th> <td> -1350.5</td> \n",
       "</tr>\n",
       "<tr>\n",
       "  <th>converged:</th>             <td>True</td>       <th>  LL-Null:           </th> <td> -1482.0</td> \n",
       "</tr>\n",
       "<tr>\n",
       "  <th>Covariance Type:</th>     <td>nonrobust</td>    <th>  LLR p-value:       </th> <td>9.636e-51</td>\n",
       "</tr>\n",
       "</table>\n",
       "<table class=\"simpletable\">\n",
       "<tr>\n",
       "              <td></td>                 <th>coef</th>     <th>std err</th>      <th>z</th>      <th>P>|z|</th>  <th>[0.025</th>    <th>0.975]</th>  \n",
       "</tr>\n",
       "<tr>\n",
       "  <th>const</th>                     <td> -339.5568</td> <td>   50.815</td> <td>   -6.682</td> <td> 0.000</td> <td> -439.153</td> <td> -239.961</td>\n",
       "</tr>\n",
       "<tr>\n",
       "  <th>JoiningYear</th>               <td>    0.1695</td> <td>    0.025</td> <td>    6.719</td> <td> 0.000</td> <td>    0.120</td> <td>    0.219</td>\n",
       "</tr>\n",
       "<tr>\n",
       "  <th>PaymentTier</th>               <td>   -0.1758</td> <td>    0.076</td> <td>   -2.326</td> <td> 0.020</td> <td>   -0.324</td> <td>   -0.028</td>\n",
       "</tr>\n",
       "<tr>\n",
       "  <th>Age</th>                       <td>   -0.0492</td> <td>    0.009</td> <td>   -5.228</td> <td> 0.000</td> <td>   -0.068</td> <td>   -0.031</td>\n",
       "</tr>\n",
       "<tr>\n",
       "  <th>ExperienceInCurrentDomain</th> <td>   -0.0305</td> <td>    0.029</td> <td>   -1.058</td> <td> 0.290</td> <td>   -0.087</td> <td>    0.026</td>\n",
       "</tr>\n",
       "<tr>\n",
       "  <th>Education_Masters</th>         <td>    0.5077</td> <td>    0.120</td> <td>    4.217</td> <td> 0.000</td> <td>    0.272</td> <td>    0.744</td>\n",
       "</tr>\n",
       "<tr>\n",
       "  <th>Education_PHD</th>             <td>   -0.3042</td> <td>    0.229</td> <td>   -1.330</td> <td> 0.184</td> <td>   -0.753</td> <td>    0.144</td>\n",
       "</tr>\n",
       "<tr>\n",
       "  <th>City_New Delhi</th>            <td>   -0.5140</td> <td>    0.126</td> <td>   -4.077</td> <td> 0.000</td> <td>   -0.761</td> <td>   -0.267</td>\n",
       "</tr>\n",
       "<tr>\n",
       "  <th>City_Pune</th>                 <td>    0.4361</td> <td>    0.113</td> <td>    3.862</td> <td> 0.000</td> <td>    0.215</td> <td>    0.657</td>\n",
       "</tr>\n",
       "<tr>\n",
       "  <th>Gender_Male</th>               <td>   -0.9222</td> <td>    0.096</td> <td>   -9.613</td> <td> 0.000</td> <td>   -1.110</td> <td>   -0.734</td>\n",
       "</tr>\n",
       "<tr>\n",
       "  <th>EverBenched_Yes</th>           <td>    0.1903</td> <td>    0.136</td> <td>    1.395</td> <td> 0.163</td> <td>   -0.077</td> <td>    0.458</td>\n",
       "</tr>\n",
       "</table>"
      ],
      "text/latex": [
       "\\begin{center}\n",
       "\\begin{tabular}{lclc}\n",
       "\\toprule\n",
       "\\textbf{Dep. Variable:}            &    LeaveOrNot    & \\textbf{  No. Observations:  } &     2211    \\\\\n",
       "\\textbf{Model:}                    &      Logit       & \\textbf{  Df Residuals:      } &     2200    \\\\\n",
       "\\textbf{Method:}                   &       MLE        & \\textbf{  Df Model:          } &       10    \\\\\n",
       "\\textbf{Date:}                     & Tue, 24 Sep 2024 & \\textbf{  Pseudo R-squ.:     } &  0.08876    \\\\\n",
       "\\textbf{Time:}                     &     01:52:45     & \\textbf{  Log-Likelihood:    } &   -1350.5   \\\\\n",
       "\\textbf{converged:}                &       True       & \\textbf{  LL-Null:           } &   -1482.0   \\\\\n",
       "\\textbf{Covariance Type:}          &    nonrobust     & \\textbf{  LLR p-value:       } & 9.636e-51   \\\\\n",
       "\\bottomrule\n",
       "\\end{tabular}\n",
       "\\begin{tabular}{lcccccc}\n",
       "                                   & \\textbf{coef} & \\textbf{std err} & \\textbf{z} & \\textbf{P$> |$z$|$} & \\textbf{[0.025} & \\textbf{0.975]}  \\\\\n",
       "\\midrule\n",
       "\\textbf{const}                     &    -339.5568  &       50.815     &    -6.682  &         0.000        &     -439.153    &     -239.961     \\\\\n",
       "\\textbf{JoiningYear}               &       0.1695  &        0.025     &     6.719  &         0.000        &        0.120    &        0.219     \\\\\n",
       "\\textbf{PaymentTier}               &      -0.1758  &        0.076     &    -2.326  &         0.020        &       -0.324    &       -0.028     \\\\\n",
       "\\textbf{Age}                       &      -0.0492  &        0.009     &    -5.228  &         0.000        &       -0.068    &       -0.031     \\\\\n",
       "\\textbf{ExperienceInCurrentDomain} &      -0.0305  &        0.029     &    -1.058  &         0.290        &       -0.087    &        0.026     \\\\\n",
       "\\textbf{Education\\_Masters}        &       0.5077  &        0.120     &     4.217  &         0.000        &        0.272    &        0.744     \\\\\n",
       "\\textbf{Education\\_PHD}            &      -0.3042  &        0.229     &    -1.330  &         0.184        &       -0.753    &        0.144     \\\\\n",
       "\\textbf{City\\_New Delhi}           &      -0.5140  &        0.126     &    -4.077  &         0.000        &       -0.761    &       -0.267     \\\\\n",
       "\\textbf{City\\_Pune}                &       0.4361  &        0.113     &     3.862  &         0.000        &        0.215    &        0.657     \\\\\n",
       "\\textbf{Gender\\_Male}              &      -0.9222  &        0.096     &    -9.613  &         0.000        &       -1.110    &       -0.734     \\\\\n",
       "\\textbf{EverBenched\\_Yes}          &       0.1903  &        0.136     &     1.395  &         0.163        &       -0.077    &        0.458     \\\\\n",
       "\\bottomrule\n",
       "\\end{tabular}\n",
       "%\\caption{Logit Regression Results}\n",
       "\\end{center}"
      ],
      "text/plain": [
       "<class 'statsmodels.iolib.summary.Summary'>\n",
       "\"\"\"\n",
       "                           Logit Regression Results                           \n",
       "==============================================================================\n",
       "Dep. Variable:             LeaveOrNot   No. Observations:                 2211\n",
       "Model:                          Logit   Df Residuals:                     2200\n",
       "Method:                           MLE   Df Model:                           10\n",
       "Date:                Tue, 24 Sep 2024   Pseudo R-squ.:                 0.08876\n",
       "Time:                        01:52:45   Log-Likelihood:                -1350.5\n",
       "converged:                       True   LL-Null:                       -1482.0\n",
       "Covariance Type:            nonrobust   LLR p-value:                 9.636e-51\n",
       "=============================================================================================\n",
       "                                coef    std err          z      P>|z|      [0.025      0.975]\n",
       "---------------------------------------------------------------------------------------------\n",
       "const                      -339.5568     50.815     -6.682      0.000    -439.153    -239.961\n",
       "JoiningYear                   0.1695      0.025      6.719      0.000       0.120       0.219\n",
       "PaymentTier                  -0.1758      0.076     -2.326      0.020      -0.324      -0.028\n",
       "Age                          -0.0492      0.009     -5.228      0.000      -0.068      -0.031\n",
       "ExperienceInCurrentDomain    -0.0305      0.029     -1.058      0.290      -0.087       0.026\n",
       "Education_Masters             0.5077      0.120      4.217      0.000       0.272       0.744\n",
       "Education_PHD                -0.3042      0.229     -1.330      0.184      -0.753       0.144\n",
       "City_New Delhi               -0.5140      0.126     -4.077      0.000      -0.761      -0.267\n",
       "City_Pune                     0.4361      0.113      3.862      0.000       0.215       0.657\n",
       "Gender_Male                  -0.9222      0.096     -9.613      0.000      -1.110      -0.734\n",
       "EverBenched_Yes               0.1903      0.136      1.395      0.163      -0.077       0.458\n",
       "=============================================================================================\n",
       "\"\"\""
      ]
     },
     "execution_count": 50,
     "metadata": {},
     "output_type": "execute_result"
    }
   ],
   "source": [
    "x5 = sm.add_constant(X_train)\n",
    "model5 = sm.Logit(y_train, x5).fit()\n",
    "model5.summary()"
   ]
  },
  {
   "cell_type": "code",
   "execution_count": 51,
   "id": "7c90ec1c",
   "metadata": {},
   "outputs": [
    {
     "data": {
      "text/plain": [
       "array([ 0.33,  0.41,  0.32, ...,  0.54,  0.28,  0.58])"
      ]
     },
     "execution_count": 51,
     "metadata": {},
     "output_type": "execute_result"
    }
   ],
   "source": [
    "np.set_printoptions(formatter = {'float' : lambda x: '{0: 0.2f}'.format(x)})\n",
    "model5.predict()"
   ]
  },
  {
   "cell_type": "code",
   "execution_count": 53,
   "id": "1393b9ce",
   "metadata": {},
   "outputs": [
    {
     "data": {
      "text/plain": [
       "array([0, 1, 0, ..., 1, 1, 1], dtype=int64)"
      ]
     },
     "execution_count": 53,
     "metadata": {},
     "output_type": "execute_result"
    }
   ],
   "source": [
    "np.array(y_train)"
   ]
  },
  {
   "cell_type": "code",
   "execution_count": 54,
   "id": "f92475be",
   "metadata": {},
   "outputs": [
    {
     "data": {
      "text/plain": [
       "array([[ 1134.00,  207.00],\n",
       "       [ 492.00,  378.00]])"
      ]
     },
     "execution_count": 54,
     "metadata": {},
     "output_type": "execute_result"
    }
   ],
   "source": [
    "model5.pred_table(threshold = 0.5)"
   ]
  },
  {
   "cell_type": "code",
   "execution_count": 55,
   "id": "0225f383",
   "metadata": {},
   "outputs": [
    {
     "data": {
      "text/html": [
       "<div>\n",
       "<style scoped>\n",
       "    .dataframe tbody tr th:only-of-type {\n",
       "        vertical-align: middle;\n",
       "    }\n",
       "\n",
       "    .dataframe tbody tr th {\n",
       "        vertical-align: top;\n",
       "    }\n",
       "\n",
       "    .dataframe thead th {\n",
       "        text-align: right;\n",
       "    }\n",
       "</style>\n",
       "<table border=\"1\" class=\"dataframe\">\n",
       "  <thead>\n",
       "    <tr style=\"text-align: right;\">\n",
       "      <th></th>\n",
       "      <th>Predicted 0</th>\n",
       "      <th>Predicted 1</th>\n",
       "    </tr>\n",
       "  </thead>\n",
       "  <tbody>\n",
       "    <tr>\n",
       "      <th>Actual 0</th>\n",
       "      <td>1134.0</td>\n",
       "      <td>207.0</td>\n",
       "    </tr>\n",
       "    <tr>\n",
       "      <th>Actual 1</th>\n",
       "      <td>492.0</td>\n",
       "      <td>378.0</td>\n",
       "    </tr>\n",
       "  </tbody>\n",
       "</table>\n",
       "</div>"
      ],
      "text/plain": [
       "          Predicted 0  Predicted 1\n",
       "Actual 0       1134.0        207.0\n",
       "Actual 1        492.0        378.0"
      ]
     },
     "execution_count": 55,
     "metadata": {},
     "output_type": "execute_result"
    }
   ],
   "source": [
    "cm_df = pd.DataFrame(model5.pred_table(threshold = 0.5))\n",
    "cm_df.columns = ['Predicted 0', 'Predicted 1']\n",
    "cm_df = cm_df.rename(index = {0: 'Actual 0', 1: 'Actual 1'})\n",
    "cm_df"
   ]
  },
  {
   "cell_type": "code",
   "execution_count": 56,
   "id": "3c1e101a",
   "metadata": {},
   "outputs": [
    {
     "data": {
      "text/plain": [
       "0.683853459972863"
      ]
     },
     "execution_count": 56,
     "metadata": {},
     "output_type": "execute_result"
    }
   ],
   "source": [
    "cm = np.array(cm_df)\n",
    "train_accuracy = (cm[0, 0] + cm[1, 1]) / cm.sum()\n",
    "train_accuracy"
   ]
  },
  {
   "cell_type": "code",
   "execution_count": 57,
   "id": "c379378b",
   "metadata": {},
   "outputs": [],
   "source": [
    "def confusion_matrix(test_data, actual_values, model):\n",
    "    pred_values = model.predict(test_data)\n",
    "    bins = np.array([0, 0.5, 1])\n",
    "    cm = np.histogram2d(actual_values, pred_values, bins = bins)[0]\n",
    "    accuracy = round((cm[0, 0] + cm[1, 1]) / cm.sum(), 4)\n",
    "    return cm, accuracy"
   ]
  },
  {
   "cell_type": "code",
   "execution_count": 59,
   "id": "d07d211c",
   "metadata": {},
   "outputs": [],
   "source": [
    "X_test_t = sm.add_constant(X_test)"
   ]
  },
  {
   "cell_type": "code",
   "execution_count": 60,
   "id": "18dd67bd",
   "metadata": {},
   "outputs": [
    {
     "data": {
      "text/plain": [
       "(array([[ 265.00,  70.00],\n",
       "        [ 112.00,  106.00]]),\n",
       " 0.6709)"
      ]
     },
     "execution_count": 60,
     "metadata": {},
     "output_type": "execute_result"
    }
   ],
   "source": [
    "cm = confusion_matrix(X_test_t, y_test, model5)\n",
    "cm"
   ]
  },
  {
   "cell_type": "code",
   "execution_count": 61,
   "id": "e330f5f0",
   "metadata": {},
   "outputs": [
    {
     "data": {
      "text/html": [
       "<div>\n",
       "<style scoped>\n",
       "    .dataframe tbody tr th:only-of-type {\n",
       "        vertical-align: middle;\n",
       "    }\n",
       "\n",
       "    .dataframe tbody tr th {\n",
       "        vertical-align: top;\n",
       "    }\n",
       "\n",
       "    .dataframe thead th {\n",
       "        text-align: right;\n",
       "    }\n",
       "</style>\n",
       "<table border=\"1\" class=\"dataframe\">\n",
       "  <thead>\n",
       "    <tr style=\"text-align: right;\">\n",
       "      <th></th>\n",
       "      <th>Predicted 0</th>\n",
       "      <th>Predicted 1</th>\n",
       "    </tr>\n",
       "  </thead>\n",
       "  <tbody>\n",
       "    <tr>\n",
       "      <th>Actual 0</th>\n",
       "      <td>265.0</td>\n",
       "      <td>70.0</td>\n",
       "    </tr>\n",
       "    <tr>\n",
       "      <th>Actual 1</th>\n",
       "      <td>112.0</td>\n",
       "      <td>106.0</td>\n",
       "    </tr>\n",
       "  </tbody>\n",
       "</table>\n",
       "</div>"
      ],
      "text/plain": [
       "          Predicted 0  Predicted 1\n",
       "Actual 0        265.0         70.0\n",
       "Actual 1        112.0        106.0"
      ]
     },
     "execution_count": 61,
     "metadata": {},
     "output_type": "execute_result"
    }
   ],
   "source": [
    "cm_df = pd.DataFrame(cm[0])\n",
    "cm_df.columns = ['Predicted 0', 'Predicted 1']\n",
    "cm_df = cm_df.rename(index = {0: 'Actual 0', 1: 'Actual 1'})\n",
    "cm_df"
   ]
  },
  {
   "cell_type": "code",
   "execution_count": 62,
   "id": "d05cc68c",
   "metadata": {},
   "outputs": [
    {
     "name": "stdout",
     "output_type": "stream",
     "text": [
      "Missclassificatio rate: 0.3291139240506329\n"
     ]
    }
   ],
   "source": [
    "cm_df_np = np.array(cm_df)\n",
    "print('Missclassificatio rate:', (cm_df_np[0, 1] + cm_df_np[1, 0]) / cm_df_np.sum())"
   ]
  }
 ],
 "metadata": {
  "kernelspec": {
   "display_name": "Python 3 (ipykernel)",
   "language": "python",
   "name": "python3"
  },
  "language_info": {
   "codemirror_mode": {
    "name": "ipython",
    "version": 3
   },
   "file_extension": ".py",
   "mimetype": "text/x-python",
   "name": "python",
   "nbconvert_exporter": "python",
   "pygments_lexer": "ipython3",
   "version": "3.10.5"
  }
 },
 "nbformat": 4,
 "nbformat_minor": 5
}
